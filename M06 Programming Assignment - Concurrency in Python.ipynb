{
 "cells": [
  {
   "cell_type": "markdown",
   "id": "d7dbf066-1559-4665-8bc1-413224c34758",
   "metadata": {},
   "source": [
    "Ryan Hayes"
   ]
  },
  {
   "cell_type": "markdown",
   "id": "4abddd05-3432-48da-8a52-19e4c03b9a93",
   "metadata": {},
   "source": [
    "M06 Programming Assignment - Concurrency in Python"
   ]
  },
  {
   "cell_type": "markdown",
   "id": "6e451cd5-9baf-4aff-8394-73c61730099a",
   "metadata": {},
   "source": [
    "Sdev220"
   ]
  },
  {
   "cell_type": "code",
   "execution_count": null,
   "id": "f7097d45-4a91-4cbb-905b-9b28cae730a1",
   "metadata": {},
   "outputs": [],
   "source": [
    "##### 13.1 #####\n",
    "# Write the current date as a string to the text file today.txt.\n",
    "\n",
    "import datetime\n",
    "\n",
    "# Get the current date\n",
    "current_date = datetime.datetime.now()\n",
    "\n",
    "# Open the file and write the formatted date string directly\n",
    "with open('today.txt', 'w') as file:\n",
    "    file.write(current_date.strftime('%Y-%m-%d'))\n"
   ]
  },
  {
   "cell_type": "code",
   "execution_count": null,
   "id": "90722e46-8a29-4f5d-9685-d619cf2c9e0c",
   "metadata": {},
   "outputs": [],
   "source": [
    "##### 13.2 #####\n",
    "# Read the text file today.txt into the string today_string.\n",
    "\n",
    "# Open the file and read the contents into today_string\n",
    "with open('today.txt', 'r') as file:\n",
    "    today_string = file.read()\n",
    "\n",
    "# Print the content of today_string to verify it (optional)\n",
    "print(today_string)\n",
    "\n"
   ]
  },
  {
   "cell_type": "code",
   "execution_count": null,
   "id": "0b1b132f-ecf9-4608-9864-744813dd0faa",
   "metadata": {},
   "outputs": [],
   "source": [
    "##### 13.3 #####\n",
    "# Parse the date from today_string.\n",
    "\n",
    "from datetime import datetime\n",
    "\n",
    "# Read the date from the file\n",
    "with open('today.txt', 'r') as file:\n",
    "    today_string = file.read()\n",
    "\n",
    "# Parse the date string into a datetime object using the known format (YYYY-MM-DD)\n",
    "parsed_date = datetime.strptime(today_string, '%Y-%m-%d')\n",
    "\n",
    "# Print the parsed datetime object to verify\n",
    "print(parsed_date)\n"
   ]
  },
  {
   "cell_type": "code",
   "execution_count": null,
   "id": "d877aa7e-6f91-4089-85ef-c4f4954d8776",
   "metadata": {},
   "outputs": [],
   "source": [
    "##### 15.1 #####\n",
    "# Use multiprocessing to create three separate processes. Make each one wait a random number of seconds between zero and one, \n",
    "# print the current time, and then exit.\n",
    "\n",
    "import multiprocessing\n",
    "import time\n",
    "import random\n",
    "from datetime import datetime\n",
    "\n",
    "def print_current_time():\n",
    "    # Sleep for a random time between 0 and 1 seconds\n",
    "    time.sleep(random.random())\n",
    "    \n",
    "    # Get the current time\n",
    "    current_time = datetime.now()\n",
    "    \n",
    "    # Print the current time\n",
    "    print(f\"Process {multiprocessing.current_process().name}: {current_time}\")\n",
    "\n",
    "if __name__ == \"__main__\":\n",
    "    # Create a list to hold the processes\n",
    "    processes = []\n",
    "    \n",
    "    # Create three processes\n",
    "    for i in range(3):\n",
    "        process = multiprocessing.Process(target=print_current_time)\n",
    "        processes.append(process)\n",
    "        process.start()\n",
    "    \n",
    "    # Wait for all processes to finish\n",
    "    for process in processes:\n",
    "        process.join()\n"
   ]
  }
 ],
 "metadata": {
  "kernelspec": {
   "display_name": "Python 3 (ipykernel)",
   "language": "python",
   "name": "python3"
  },
  "language_info": {
   "codemirror_mode": {
    "name": "ipython",
    "version": 3
   },
   "file_extension": ".py",
   "mimetype": "text/x-python",
   "name": "python",
   "nbconvert_exporter": "python",
   "pygments_lexer": "ipython3",
   "version": "3.11.7"
  }
 },
 "nbformat": 4,
 "nbformat_minor": 5
}
